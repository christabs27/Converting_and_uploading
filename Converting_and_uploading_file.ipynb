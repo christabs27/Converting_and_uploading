{
 "cells": [
  {
   "cell_type": "markdown",
   "id": "bf680584",
   "metadata": {
    "id": "bf680584"
   },
   "source": [
    "# Guided Activity: Part 1\n",
    "\n",
    "####Convert a text file to a CSV.\n",
    "\n",
    "The hackers have sent the file ***ClientData_2020.txt*** for us to convert. Now, we only have 10 minutes to convert this file. While we won't be sending the real thing back, we will need to check that this file is converted and updated correctly. "
   ]
  },
  {
   "cell_type": "markdown",
   "id": "27623dd4",
   "metadata": {
    "id": "27623dd4"
   },
   "source": [
    "**Step 1: Upload the *ClientData_2020.txt* file to your desktop, so that it is easy to find.**\n",
    "\n",
    "You should have downloaded the text file prior to class. In case you haven't, download it now to your desktop.  "
   ]
  },
  {
   "cell_type": "markdown",
   "id": "b95f47e7",
   "metadata": {
    "id": "b95f47e7"
   },
   "source": [
    "**Step 2: Import Pandas as pd.**"
   ]
  },
  {
   "cell_type": "code",
   "execution_count": 13,
   "id": "97b37097",
   "metadata": {
    "id": "97b37097"
   },
   "outputs": [],
   "source": [
    "import pandas as pd"
   ]
  },
  {
   "cell_type": "markdown",
   "id": "71965bed",
   "metadata": {
    "id": "71965bed"
   },
   "source": [
    "**Step 3: Capture the path of the current text file.**\n",
    "\n",
    "Open your file explorer and navigate to your ***ClientData_2020.txt*** file. Click the file  (but don't open it). On the home tab, click **Copy Path**. Paste that path into the following code.\n"
   ]
  },
  {
   "cell_type": "code",
   "execution_count": 9,
   "id": "bfae1bc8",
   "metadata": {
    "id": "bfae1bc8"
   },
   "outputs": [],
   "source": [
    "file = open(\"C:/Users/Chris/Desktop/UNLV/Python/ClientData_2020.txt\")"
   ]
  },
  {
   "cell_type": "markdown",
   "id": "958662d6",
   "metadata": {
    "id": "958662d6"
   },
   "source": [
    "**Step 4: Determine where you want the newly generated file to be stored.**\n",
    "\n",
    "For ease, let's store the newly converted file on the desktop as well. Let's call the new file, CSV_file. \n",
    "\n",
    "Fill in the code below. "
   ]
  },
  {
   "cell_type": "code",
   "execution_count": 12,
   "id": "5adf665f",
   "metadata": {
    "id": "5adf665f"
   },
   "outputs": [],
   "source": [
    "file.to_csv = (r'\"C:/Users/Chris/Desktop/UNLV/Python/CSV_file..txt')"
   ]
  },
  {
   "cell_type": "markdown",
   "id": "aa08f3eb",
   "metadata": {
    "id": "aa08f3eb"
   },
   "source": [
    "# Guided Activity: Part 2\n",
    "\n",
    "####Convert the CSV file to an Excel document for the hacker! \n",
    "Instead of filling in the statements, this time you will write your own. "
   ]
  },
  {
   "cell_type": "markdown",
   "id": "e89114b0",
   "metadata": {
    "id": "e89114b0"
   },
   "source": [
    "**Step 1: Ensure that you have downloaded the** ***ClientData_2020.csv***.\n",
    "\n",
    "Ensure that the CSV version of the Client Data file is downloaded to your desktop. \n",
    "\n",
    "**Step 2: Import Pandas as pd.**\n",
    "\n",
    "You can import Pandas as `pd` again or re-run the cell with that code above."
   ]
  },
  {
   "cell_type": "code",
   "execution_count": null,
   "id": "d05fadbe",
   "metadata": {
    "id": "d05fadbe"
   },
   "outputs": [],
   "source": []
  },
  {
   "cell_type": "markdown",
   "id": "ab887c86",
   "metadata": {
    "id": "ab887c86"
   },
   "source": [
    "**Step 3: Capture the path of the current CSV file.**\n",
    "\n",
    "Open your file explorer and navigate to your ***ClientData_2020.csv*** file. Click the file (but don't open it). On the home tab, click **Copy Path**. Read the CSV file into a variable name of your choice."
   ]
  },
  {
   "cell_type": "code",
   "execution_count": 16,
   "id": "31b94cec",
   "metadata": {
    "id": "31b94cec"
   },
   "outputs": [],
   "source": [
    "file = pd.read_csv(r'C:/Users/Chris/Desktop/UNLV/Python/ClientData_2020.csv')"
   ]
  },
  {
   "cell_type": "markdown",
   "id": "1cce85f5",
   "metadata": {
    "id": "1cce85f5"
   },
   "source": [
    "**Step 4: Determine where you want the newly generated file to be stored.**\n",
    "\n",
    "Use the `file.to_excel` function to transform the CSV file into an Excel document. "
   ]
  },
  {
   "cell_type": "code",
   "execution_count": 18,
   "id": "313d6919",
   "metadata": {
    "id": "313d6919"
   },
   "outputs": [],
   "source": [
    "file.to_excel(r'C:/Users/Chris/Desktop/UNLV/Python/ClientData_2020.xlsx')"
   ]
  },
  {
   "cell_type": "markdown",
   "id": "0485879b",
   "metadata": {
    "id": "0485879b"
   },
   "source": [
    "**Step 5: Navigate to your homepage to find the newly generated document.**\n",
    "\n",
    "Click the homepage and navigate to the file path you specified above. Confirm that the file is there.\n",
    "\n",
    "**Step 6: Create a DataFrame from the Excel document and run .head()** \n",
    "\n",
    "Use `pd.read_excel(r'filepath')` to read the Excel document into a DataFrame. Index the DataFrame on the first column."
   ]
  },
  {
   "cell_type": "code",
   "execution_count": 20,
   "id": "cda48af5",
   "metadata": {
    "id": "cda48af5"
   },
   "outputs": [],
   "source": [
    "df = pd.read_excel(r'C:/Users/Chris/Desktop/UNLV/Python/ClientData_2020.xlsx', index_col=[0])"
   ]
  },
  {
   "cell_type": "code",
   "execution_count": 21,
   "id": "df5eb7b6",
   "metadata": {
    "id": "df5eb7b6"
   },
   "outputs": [
    {
     "data": {
      "text/html": [
       "<div>\n",
       "<style scoped>\n",
       "    .dataframe tbody tr th:only-of-type {\n",
       "        vertical-align: middle;\n",
       "    }\n",
       "\n",
       "    .dataframe tbody tr th {\n",
       "        vertical-align: top;\n",
       "    }\n",
       "\n",
       "    .dataframe thead th {\n",
       "        text-align: right;\n",
       "    }\n",
       "</style>\n",
       "<table border=\"1\" class=\"dataframe\">\n",
       "  <thead>\n",
       "    <tr style=\"text-align: right;\">\n",
       "      <th></th>\n",
       "      <th>Account_Num</th>\n",
       "      <th>First_Name</th>\n",
       "      <th>Last_Name</th>\n",
       "      <th>Email</th>\n",
       "      <th>CC_Num</th>\n",
       "      <th>Current_Bal</th>\n",
       "    </tr>\n",
       "  </thead>\n",
       "  <tbody>\n",
       "    <tr>\n",
       "      <th>0</th>\n",
       "      <td>11-983-1512</td>\n",
       "      <td>Whitby</td>\n",
       "      <td>Shiell</td>\n",
       "      <td>wshiell2@biblegateway.com</td>\n",
       "      <td>4.910000e+17</td>\n",
       "      <td>$1.42B</td>\n",
       "    </tr>\n",
       "    <tr>\n",
       "      <th>1</th>\n",
       "      <td>47-898-0195</td>\n",
       "      <td>Nerti</td>\n",
       "      <td>Cummings</td>\n",
       "      <td>ncummings3@economist.com</td>\n",
       "      <td>3.540000e+15</td>\n",
       "      <td>$263.7M</td>\n",
       "    </tr>\n",
       "    <tr>\n",
       "      <th>2</th>\n",
       "      <td>82-661-4005</td>\n",
       "      <td>Leif</td>\n",
       "      <td>Ryder</td>\n",
       "      <td>lryder4@techcrunch.com</td>\n",
       "      <td>4.840000e+15</td>\n",
       "      <td>$8.28B</td>\n",
       "    </tr>\n",
       "    <tr>\n",
       "      <th>3</th>\n",
       "      <td>07-687-6412</td>\n",
       "      <td>Tiffanie</td>\n",
       "      <td>Rowbrey</td>\n",
       "      <td>trowbrey5@yellowpages.com</td>\n",
       "      <td>5.100000e+15</td>\n",
       "      <td>$9.04B</td>\n",
       "    </tr>\n",
       "    <tr>\n",
       "      <th>4</th>\n",
       "      <td>09-002-7659</td>\n",
       "      <td>Pacorro</td>\n",
       "      <td>Jedrzejczak</td>\n",
       "      <td>pjedrzejczak6@spotify.com</td>\n",
       "      <td>3.740000e+14</td>\n",
       "      <td>$91.14M</td>\n",
       "    </tr>\n",
       "  </tbody>\n",
       "</table>\n",
       "</div>"
      ],
      "text/plain": [
       "   Account_Num First_Name    Last_Name                      Email  \\\n",
       "0  11-983-1512     Whitby       Shiell  wshiell2@biblegateway.com   \n",
       "1  47-898-0195      Nerti     Cummings   ncummings3@economist.com   \n",
       "2  82-661-4005       Leif        Ryder     lryder4@techcrunch.com   \n",
       "3  07-687-6412   Tiffanie      Rowbrey  trowbrey5@yellowpages.com   \n",
       "4  09-002-7659    Pacorro  Jedrzejczak  pjedrzejczak6@spotify.com   \n",
       "\n",
       "         CC_Num Current_Bal  \n",
       "0  4.910000e+17      $1.42B  \n",
       "1  3.540000e+15     $263.7M  \n",
       "2  4.840000e+15      $8.28B  \n",
       "3  5.100000e+15      $9.04B  \n",
       "4  3.740000e+14     $91.14M  "
      ]
     },
     "execution_count": 21,
     "metadata": {},
     "output_type": "execute_result"
    }
   ],
   "source": [
    "df.head()"
   ]
  },
  {
   "cell_type": "markdown",
   "id": "03d43c09",
   "metadata": {
    "id": "03d43c09"
   },
   "source": [
    "# Independent Activity: Create a PDF\n",
    "\n",
    "####Create a PDF that contains 5 riddles, and each requires a number as the answer. \n",
    "Spend some time between your teammates either creating or researching riddles. A riddle can be a problem to solve or even a math equation—make it tricky!\n",
    "\n",
    "Store your riddles here: "
   ]
  },
  {
   "cell_type": "markdown",
   "id": "7dc3d12a",
   "metadata": {
    "id": "7dc3d12a"
   },
   "source": [
    "x - 5 = 10\n",
    "y + 32 = 96\n",
    "z^2 -5 = 20\n",
    "George Washington's Birthday.\n",
    "The number of digits in pi. "
   ]
  },
  {
   "cell_type": "markdown",
   "id": "914b008b",
   "metadata": {
    "id": "914b008b"
   },
   "source": [
    "**Step 1: Pip install fpdf.**"
   ]
  },
  {
   "cell_type": "code",
   "execution_count": 23,
   "id": "bf29428a",
   "metadata": {
    "id": "bf29428a"
   },
   "outputs": [
    {
     "name": "stdout",
     "output_type": "stream",
     "text": [
      "Collecting fpdf\n",
      "  Downloading fpdf-1.7.2.tar.gz (39 kB)\n",
      "Building wheels for collected packages: fpdf\n",
      "  Building wheel for fpdf (setup.py): started\n",
      "  Building wheel for fpdf (setup.py): finished with status 'done'\n",
      "  Created wheel for fpdf: filename=fpdf-1.7.2-py2.py3-none-any.whl size=40722 sha256=a5e047ef47d89cd3e362994e13c575c897c4f1369b7e387ea5c30726d5b3ae8a\n",
      "  Stored in directory: c:\\users\\chris\\appdata\\local\\pip\\cache\\wheels\\44\\35\\8b\\86ce00cec7e4d13c5f189680ae0fa82f919bedc066c2cddae9\n",
      "Successfully built fpdf\n",
      "Installing collected packages: fpdf\n",
      "Successfully installed fpdf-1.7.2\n",
      "Note: you may need to restart the kernel to use updated packages.\n"
     ]
    }
   ],
   "source": [
    "pip install fpdf"
   ]
  },
  {
   "cell_type": "markdown",
   "id": "6a8ccc67",
   "metadata": {
    "id": "6a8ccc67"
   },
   "source": [
    "**Step 2: Import FPDF from fpdf.**"
   ]
  },
  {
   "cell_type": "code",
   "execution_count": 25,
   "id": "f21199fe",
   "metadata": {
    "id": "f21199fe"
   },
   "outputs": [],
   "source": [
    "from fpdf import fpdf"
   ]
  },
  {
   "cell_type": "markdown",
   "id": "16960b5c",
   "metadata": {
    "id": "16960b5c"
   },
   "source": [
    "**Step 3: Save FPDF() into a variable of your choice.**\n",
    "\n",
    "Create a variable to store `FPDF()` "
   ]
  },
  {
   "cell_type": "code",
   "execution_count": null,
   "id": "56d91c3c",
   "metadata": {
    "id": "56d91c3c"
   },
   "outputs": [],
   "source": [
    "pdf = FDPDF()"
   ]
  },
  {
   "cell_type": "markdown",
   "id": "110233c2",
   "metadata": {
    "id": "110233c2"
   },
   "source": [
    "**Step 4: Add a page with .add_page()**\n",
    "\n",
    "Before we can write anything in our file, we have to add a page first. You can do so with `.add_page()`"
   ]
  },
  {
   "cell_type": "code",
   "execution_count": 26,
   "id": "35fc3768",
   "metadata": {
    "id": "35fc3768"
   },
   "outputs": [
    {
     "ename": "SyntaxError",
     "evalue": "invalid syntax (Temp/ipykernel_7856/4228685683.py, line 1)",
     "output_type": "error",
     "traceback": [
      "\u001b[1;36m  File \u001b[1;32m\"C:\\Users\\Chris\\AppData\\Local\\Temp/ipykernel_7856/4228685683.py\"\u001b[1;36m, line \u001b[1;32m1\u001b[0m\n\u001b[1;33m    .add_page()\u001b[0m\n\u001b[1;37m    ^\u001b[0m\n\u001b[1;31mSyntaxError\u001b[0m\u001b[1;31m:\u001b[0m invalid syntax\n"
     ]
    }
   ],
   "source": [
    ".add_page()"
   ]
  },
  {
   "cell_type": "markdown",
   "id": "9eee2732",
   "metadata": {
    "id": "9eee2732"
   },
   "source": [
    "**Step 5: Set the style of font and size with .set_font**\n",
    "\n",
    "Have fun with this! Choose a font from the below list: \n",
    "* Courier\n",
    "* Helvetica or Arial\n",
    "* Times\n",
    "* Symbol\n",
    "* Zapf Dingbats\n",
    "\n",
    "You can also specify a font style: \n",
    "* Empty: regular\n",
    "* B: bold\n",
    "* I: italic \n",
    "* U: underline"
   ]
  },
  {
   "cell_type": "code",
   "execution_count": null,
   "id": "00fdfa35",
   "metadata": {
    "id": "00fdfa35"
   },
   "outputs": [],
   "source": [
    "pdf.set_font(\"\", size=)\n",
    "pdf.set_font(\"\", style=\"\", size=)"
   ]
  },
  {
   "cell_type": "markdown",
   "id": "652dfac9",
   "metadata": {
    "id": "652dfac9"
   },
   "source": [
    "**Step 6: Create a cell for each of your riddles.**\n",
    "\n",
    "`pdf.cell()` allows you to input text on any given line and alignment in the PDF. \n",
    "\n",
    "Your first riddle has been written for you below. Note that each riddle should generate a number to be a part of the kill-switch code for the hackers to type in."
   ]
  },
  {
   "cell_type": "code",
   "execution_count": null,
   "id": "5e976ea8",
   "metadata": {
    "id": "5e976ea8"
   },
   "outputs": [],
   "source": [
    "pdf.cell(200, 10, txt = \"George Washington's birthday month (number)\", ln = 1, align = 'C')"
   ]
  },
  {
   "cell_type": "markdown",
   "id": "53de4343",
   "metadata": {
    "id": "53de4343"
   },
   "source": [
    "Now, create a cell for the remaining 2 (or more) riddles. You can adjust the alignment and lines (such as skipping) to whatever your team decides.\n",
    "\n",
    "\n",
    "\n",
    "\n"
   ]
  },
  {
   "cell_type": "code",
   "execution_count": null,
   "id": "01795392",
   "metadata": {
    "id": "01795392"
   },
   "outputs": [],
   "source": [
    "pdf.cell(200, 10, txt = \"\", ln = 2, align = 'C')\n",
    "pdf.cell(200, 10, txt = \"\", ln = 3, align = 'C')\n"
   ]
  },
  {
   "cell_type": "markdown",
   "id": "734c74fb",
   "metadata": {
    "id": "734c74fb"
   },
   "source": [
    "**Step 7: Save the PDF**\n",
    "\n",
    "Save the PDF with `.output(\"name.pdf\")`. Name the PDF \"Instructions\" for the hackers to think this is the key for the passcode!"
   ]
  },
  {
   "cell_type": "code",
   "execution_count": null,
   "id": "a18d19d0",
   "metadata": {
    "id": "a18d19d0",
    "outputId": "01324649-6d54-4387-884f-99269243da39"
   },
   "outputs": [
    {
     "data": {
      "text/plain": [
       "''"
      ]
     },
     "execution_count": 64,
     "metadata": {},
     "output_type": "execute_result"
    }
   ],
   "source": [
    "pdf.output(\".pdf\",dest='F')"
   ]
  },
  {
   "cell_type": "markdown",
   "id": "96b02b24",
   "metadata": {
    "id": "96b02b24"
   },
   "source": [
    "**Step 8: Execute the following code to open your PDF!** \n",
    "\n",
    "Upload this PDF to the discussion board."
   ]
  },
  {
   "cell_type": "code",
   "execution_count": null,
   "id": "94b1d6be",
   "metadata": {
    "id": "94b1d6be"
   },
   "outputs": [],
   "source": [
    "import webbrowser\n",
    "path = 'Instructions.pdf'\n",
    "webbrowser.open_new(path)"
   ]
  },
  {
   "cell_type": "code",
   "execution_count": null,
   "id": "e1bd5acf",
   "metadata": {
    "id": "e1bd5acf"
   },
   "outputs": [],
   "source": []
  }
 ],
 "metadata": {
  "colab": {
   "collapsed_sections": [],
   "name": "6.2.2 Converting File Formats Activity.ipynb",
   "provenance": []
  },
  "kernelspec": {
   "display_name": "Python 3 (ipykernel)",
   "language": "python",
   "name": "python3"
  },
  "language_info": {
   "codemirror_mode": {
    "name": "ipython",
    "version": 3
   },
   "file_extension": ".py",
   "mimetype": "text/x-python",
   "name": "python",
   "nbconvert_exporter": "python",
   "pygments_lexer": "ipython3",
   "version": "3.9.7"
  }
 },
 "nbformat": 4,
 "nbformat_minor": 5
}
